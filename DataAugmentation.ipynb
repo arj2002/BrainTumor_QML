{
 "cells": [
  {
   "cell_type": "code",
   "execution_count": null,
   "metadata": {},
   "outputs": [],
   "source": [
    "%pip install tensorflow"
   ]
  },
  {
   "cell_type": "code",
   "execution_count": null,
   "metadata": {},
   "outputs": [],
   "source": [
    "%pip install keras\n",
    "%pip install matplotlib\n",
    "%pip install pandas\n",
    "%pip install imutils"
   ]
  },
  {
   "cell_type": "code",
   "execution_count": null,
   "metadata": {},
   "outputs": [],
   "source": [
    "%pip install opencv-python"
   ]
  },
  {
   "cell_type": "code",
   "execution_count": null,
   "metadata": {},
   "outputs": [],
   "source": [
    "import tensorflow as tf\n",
    "from keras.preprocessing.image import ImageDataGenerator\n",
    "import cv2\n",
    "import imutils\n",
    "import matplotlib.pyplot as plt\n",
    "from os import listdir\n",
    "import time\n",
    "\n",
    "%matplotlib inline"
   ]
  },
  {
   "cell_type": "code",
   "execution_count": null,
   "metadata": {},
   "outputs": [],
   "source": [
    "# Nicely formatted time string\n",
    "def hms_string(sec_elapsed):\n",
    "    h = int(sec_elapsed / (60 * 60))\n",
    "    m = int((sec_elapsed % (60 * 60)) / 60)\n",
    "    s = sec_elapsed % 60\n",
    "    return f\"{h}:{m}:{round(s,1)}\""
   ]
  },
  {
   "cell_type": "code",
   "execution_count": null,
   "metadata": {},
   "outputs": [],
   "source": [
    "import os\n",
    "import cv2\n",
    "from keras.preprocessing.image import ImageDataGenerator\n",
    "\n",
    "def augment_data(file_dir, n_generated_samples, save_to_dir):\n",
    "    \"\"\"\n",
    "    Arguments:\n",
    "        file_dir (str): A string representing the directory where images that we want to augment are found.\n",
    "        n_generated_samples (int): An integer representing the number of generated samples using the given image.\n",
    "        save_to_dir (str): A string representing the directory in which the generated images will be saved.\n",
    "    \"\"\"\n",
    "\n",
    "    data_gen = ImageDataGenerator(rotation_range=10,\n",
    "                                  width_shift_range=0.1,\n",
    "                                  height_shift_range=0.1,\n",
    "                                  shear_range=0.1,\n",
    "                                  brightness_range=(0.3, 1.0),\n",
    "                                  horizontal_flip=True,\n",
    "                                  vertical_flip=True,\n",
    "                                  fill_mode='nearest'\n",
    "                                 )\n",
    "\n",
    "    # Create the base directory if it doesn't exist\n",
    "    os.makedirs(save_to_dir, exist_ok=True)\n",
    "\n",
    "    for filename in os.listdir(file_dir):\n",
    "        # load the image\n",
    "        image = cv2.imread(os.path.join(file_dir, filename))\n",
    "        # reshape the image\n",
    "        # (you might want to resize to a consistent shape before augmentation)\n",
    "        image = image.reshape((1,) + image.shape)\n",
    "        # prefix of the names for the generated samples.\n",
    "        save_prefix = 'aug_' + filename[:-4]\n",
    "        # generate 'n_generated_samples' sample images\n",
    "        i = 0\n",
    "        for batch in data_gen.flow(x=image, batch_size=1, save_to_dir=save_to_dir,\n",
    "                                   save_prefix=save_prefix, save_format='jpg'):\n",
    "            i += 1\n",
    "            if i > n_generated_samples:\n",
    "                break"
   ]
  },
  {
   "cell_type": "code",
   "execution_count": null,
   "metadata": {},
   "outputs": [],
   "source": [
    "import time\n",
    "start_time = time.time()\n",
    "augmented_data_path = 'C:\\\\ML projects\\\\brain tumor\\\\bt_dataset\\\\augmented_data'\n",
    "# Create the base directory if it doesn't exist\n",
    "os.makedirs(augmented_data_path, exist_ok=True)\n",
    "\n",
    "augment_data('C:\\\\ML projects\\\\brain tumor\\\\bt_dataset\\\\brain_tumor_dataset\\\\yes', 6, os.path.join(augmented_data_path, 'yes'))\n",
    "augment_data('C:\\\\ML projects\\\\brain tumor\\\\bt_dataset\\\\brain_tumor_dataset\\\\no', 9, os.path.join(augmented_data_path, 'no'))\n",
    "\n",
    "end_time = time.time()\n",
    "execution_time = (end_time - start_time)\n",
    "print(f\"Elapsed time: {hms_string(execution_time)}\")"
   ]
  },
  {
   "cell_type": "code",
   "execution_count": null,
   "metadata": {},
   "outputs": [],
   "source": [
    "def data_summary(main_path):\n",
    "\n",
    "    yes_path = main_path+'/yes'\n",
    "    no_path = main_path+'/no'\n",
    "\n",
    "    # number of files (images) that are in the the folder named 'yes' that represent tumorous (positive) examples\n",
    "    m_pos = len(listdir(yes_path))\n",
    "    # number of files (images) that are in the the folder named 'no' that represent non-tumorous (negative) examples\n",
    "    m_neg = len(listdir(no_path))\n",
    "    # number of all examples\n",
    "    m = (m_pos+m_neg)\n",
    "\n",
    "    pos_prec = (m_pos* 100.0)/ m\n",
    "    neg_prec = (m_neg* 100.0)/ m\n",
    "\n",
    "    print(f\"Number of examples: {m}\")\n",
    "    print(f\"Percentage of positive examples: {pos_prec}%, number of pos examples: {m_pos}\")\n",
    "    print(f\"Percentage of negative examples: {neg_prec}%, number of neg examples: {m_neg}\")"
   ]
  },
  {
   "cell_type": "code",
   "execution_count": null,
   "metadata": {},
   "outputs": [],
   "source": [
    "data_summary('C:\\\\ML projects\\\\brain tumor\\\\bt_dataset\\\\augmented_data')"
   ]
  }
 ],
 "metadata": {
  "language_info": {
   "name": "python"
  }
 },
 "nbformat": 4,
 "nbformat_minor": 2
}
